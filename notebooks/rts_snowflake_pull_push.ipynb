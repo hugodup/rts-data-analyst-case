{
 "cells": [
  {
   "cell_type": "markdown",
   "id": "b570406e",
   "metadata": {},
   "source": []
  },
  {
   "cell_type": "code",
   "execution_count": 1,
   "id": "c4b72a92",
   "metadata": {},
   "outputs": [
    {
     "name": "stderr",
     "output_type": "stream",
     "text": [
      "C:\\Users\\Darker Blade\\AppData\\Local\\Temp\\ipykernel_12188\\1632791329.py:3: DeprecationWarning: This package has been renamed to snowflake_uuid and will be removed shortly. Please update immediately.\n",
      "  from snowflake.snowpark.session import Session\n"
     ]
    },
    {
     "ename": "ModuleNotFoundError",
     "evalue": "No module named 'snowflake.snowpark'; 'snowflake' is not a package",
     "output_type": "error",
     "traceback": [
      "\u001b[1;31m---------------------------------------------------------------------------\u001b[0m",
      "\u001b[1;31mModuleNotFoundError\u001b[0m                       Traceback (most recent call last)",
      "Cell \u001b[1;32mIn[1], line 3\u001b[0m\n\u001b[0;32m      1\u001b[0m \u001b[38;5;28;01mimport\u001b[39;00m\u001b[38;5;250m \u001b[39m\u001b[38;5;21;01msys\u001b[39;00m\n\u001b[0;32m      2\u001b[0m sys\u001b[38;5;241m.\u001b[39mpath\u001b[38;5;241m.\u001b[39mappend(\u001b[38;5;124m\"\u001b[39m\u001b[38;5;124m/mnt/md0/virtualenv/snowpark/lib/python3.13.5/site-packages\u001b[39m\u001b[38;5;124m\"\u001b[39m)\n\u001b[1;32m----> 3\u001b[0m \u001b[38;5;28;01mfrom\u001b[39;00m\u001b[38;5;250m \u001b[39m\u001b[38;5;21;01msnowflake\u001b[39;00m\u001b[38;5;21;01m.\u001b[39;00m\u001b[38;5;21;01msnowpark\u001b[39;00m\u001b[38;5;21;01m.\u001b[39;00m\u001b[38;5;21;01msession\u001b[39;00m\u001b[38;5;250m \u001b[39m\u001b[38;5;28;01mimport\u001b[39;00m Session\n",
      "\u001b[1;31mModuleNotFoundError\u001b[0m: No module named 'snowflake.snowpark'; 'snowflake' is not a package"
     ]
    }
   ],
   "source": [
    "import sys\n",
    "sys.path.append(\"/mnt/md0/virtualenv/snowpark/lib/python3.13.5/site-packages\")\n",
    "from snowflake.snowpark.session import Session"
   ]
  },
  {
   "cell_type": "code",
   "execution_count": null,
   "id": "57ca8670",
   "metadata": {},
   "outputs": [],
   "source": [
    "from snowflake.snowpark import Session\n",
    "\n",
    "connection_parameters = {\n",
    "    \"account\": \"oqjwzln.eu-west-3\",       # Lowercase full Snowflake account locator + region\n",
    "    \"user\": \"rts_user_ext\",                  # Your Snowflake username (case-sensitive)\n",
    "    \"password\": \"TempPassword123!\",        # Fill this in securely\n",
    "    \"role\": \"ACCOUNTADMIN\",               # Role you are using\n",
    "    \"warehouse\": \"compute_wh\",      # Example: \"COMPUTE_WH\" or whatever you're assigned\n",
    "    \"database\": \"rts_data\",               # From your current database context\n",
    "    \"schema\": \"PUBLIC\"                    # Schema from the left-side tree\n",
    "}\n",
    "\n",
    "session = Session.builder.configs(connection_parameters).create()\n",
    "\n",
    "# 1.  Reusable file format & table  (run once)  ──────────────────────\n",
    "session.sql(\"\"\"\n",
    "    CREATE OR REPLACE FILE FORMAT csv_ff\n",
    "      TYPE = 'CSV'\n",
    "      SKIP_HEADER = 1\n",
    "      FIELD_OPTIONALLY_ENCLOSED_BY = '\"'\n",
    "\"\"\").collect()\n",
    "\n",
    "session.sql(\"\"\"\n",
    "    CREATE OR REPLACE TABLE MY_TABLE (\n",
    "        col1 STRING,\n",
    "        col2 STRING,\n",
    "        …                     -- define explicit types for better control\n",
    ")\n",
    "\"\"\").collect()\n",
    "\n",
    "# 2.  Stage & upload the local file  ─────────────────────────────────\n",
    "session.sql(\"CREATE OR REPLACE STAGE mystage FILE_FORMAT = csv_ff\").collect()\n",
    "\n",
    "put_results = session.file.put(\n",
    "        local_file_name=\"../data/df.csv\",\n",
    "        stage_location=\"@mystage\",\n",
    "        overwrite=True,\n",
    "        auto_compress=False      # compress automatically if file is large\n",
    ")\n",
    "print(put_results[0].status)     # quick sanity check\n",
    "\n",
    "# 3.  Load into the table  ───────────────────────────────────────────\n",
    "session.sql(\"\"\"\n",
    "    COPY INTO MY_TABLE\n",
    "    FROM @mystage/df.csv\n",
    "    FILE_FORMAT = (FORMAT_NAME = csv_ff)\n",
    "    MATCH_BY_COLUMN_NAME = CASE_INSENSITIVE\n",
    "    ON_ERROR = 'CONTINUE'\n",
    "\"\"\").collect()\n",
    "\n",
    "session.close()\n"
   ]
  },
  {
   "cell_type": "code",
   "execution_count": null,
   "id": "9daf57c1",
   "metadata": {},
   "outputs": [],
   "source": [
    "!pip list | grep snowflake"
   ]
  },
  {
   "cell_type": "code",
   "execution_count": null,
   "id": "bf1247d9",
   "metadata": {},
   "outputs": [],
   "source": [
    "pip install \"snowflake[ml]\" -U"
   ]
  },
  {
   "cell_type": "code",
   "execution_count": 2,
   "id": "a7e45cd8",
   "metadata": {},
   "outputs": [
    {
     "name": "stdout",
     "output_type": "stream",
     "text": [
      "Note: you may need to restart the kernel to use updated packages.\n"
     ]
    },
    {
     "name": "stderr",
     "output_type": "stream",
     "text": [
      "ERROR: Ignored the following versions that require a different python version: 0.10.0 Requires-Python ==3.8.*; 0.11.0 Requires-Python ==3.8.*; 0.12.0 Requires-Python ==3.8.*; 0.6.0 Requires-Python ==3.8.*; 0.7.0 Requires-Python ==3.8.*; 0.8.0 Requires-Python ==3.8.*; 0.9.0 Requires-Python ==3.8.*; 1.0.0 Requires-Python ==3.8.*; 1.1.0 Requires-Python ==3.8.*; 1.10.0 Requires-Python >=3.8, <3.12; 1.11.0 Requires-Python >=3.8, <3.12; 1.11.1 Requires-Python >=3.8, <3.12; 1.12.0 Requires-Python >=3.8, <3.12; 1.12.1 Requires-Python >=3.8, <3.12; 1.13.0 Requires-Python >=3.8, <3.12; 1.14.0 Requires-Python <3.12,>=3.8; 1.15.0 Requires-Python <3.12,>=3.8; 1.16.0 Requires-Python <3.12,>=3.8; 1.17.0 Requires-Python <3.12,>=3.8; 1.18.0 Requires-Python <3.12,>=3.8; 1.19.0 Requires-Python <3.12,>=3.8; 1.2.0 Requires-Python ==3.8.*; 1.20.0 Requires-Python <3.12,>=3.8; 1.21.0 Requires-Python <3.12,>=3.8; 1.21.1 Requires-Python <3.12,>=3.8; 1.22.0 Requires-Python <3.12,>=3.8; 1.22.1 Requires-Python <3.12,>=3.8; 1.23.0 Requires-Python <3.12,>=3.8; 1.24.0 Requires-Python <3.12,>=3.8; 1.25.0 Requires-Python <3.12,>=3.8; 1.26.0 Requires-Python <3.12,>=3.8; 1.27.0 Requires-Python <3.13,>=3.8; 1.28.0 Requires-Python <3.13,>=3.8; 1.29.0 Requires-Python <3.13,>=3.8; 1.29.1 Requires-Python <3.13,>=3.8; 1.3.0 Requires-Python ==3.8.*; 1.30.0 Requires-Python <3.13,>=3.8; 1.31.0 Requires-Python <3.13,>=3.9; 1.31.1 Requires-Python <3.13,>=3.9; 1.32.0 Requires-Python <3.13,>=3.9; 1.33.0 Requires-Python <3.13,>=3.9; 1.4.0 Requires-Python ==3.8.*; 1.5.0 Requires-Python >=3.8, <3.10; 1.5.1 Requires-Python >=3.8, <3.11; 1.6.0 Requires-Python >=3.8, <3.11; 1.6.1 Requires-Python >=3.8, <3.11; 1.7.0 Requires-Python >=3.8, <3.11; 1.8.0 Requires-Python >=3.8, <3.11; 1.9.0 Requires-Python >=3.8, <3.12\n",
      "ERROR: Could not find a version that satisfies the requirement snowflake-snowpark-python (from versions: none)\n",
      "ERROR: No matching distribution found for snowflake-snowpark-python\n"
     ]
    }
   ],
   "source": [
    "pip install snowflake-snowpark-python"
   ]
  },
  {
   "cell_type": "code",
   "execution_count": null,
   "id": "c6048307",
   "metadata": {},
   "outputs": [],
   "source": []
  }
 ],
 "metadata": {
  "kernelspec": {
   "display_name": "Python 3",
   "language": "python",
   "name": "python3"
  },
  "language_info": {
   "codemirror_mode": {
    "name": "ipython",
    "version": 3
   },
   "file_extension": ".py",
   "mimetype": "text/x-python",
   "name": "python",
   "nbconvert_exporter": "python",
   "pygments_lexer": "ipython3",
   "version": "3.13.5"
  }
 },
 "nbformat": 4,
 "nbformat_minor": 5
}
