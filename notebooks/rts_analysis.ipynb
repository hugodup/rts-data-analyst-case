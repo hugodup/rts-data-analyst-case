{
 "cells": [
  {
   "cell_type": "markdown",
   "id": "d9cb0a37",
   "metadata": {},
   "source": [
    "# RTS Data Analyst take-home assignment"
   ]
  },
  {
   "cell_type": "markdown",
   "id": "5ccce4ac",
   "metadata": {},
   "source": [
    "🔍 Understand the Objective\n",
    "You need to:\n",
    "- Recommend volume per content (i.e., how much to produce) for each of 5 themes: info, sport, musique, societe, humour\n",
    "- Help business understand the function each theme serves:\n",
    "acquisition, retention, or loyalty\n",
    "- Communicate this with clear insights and visuals"
   ]
  },
  {
   "cell_type": "markdown",
   "id": "db1ad007",
   "metadata": {},
   "source": [
    "# 📌 1. Import Libraries"
   ]
  },
  {
   "cell_type": "code",
   "execution_count": null,
   "id": "32735e80",
   "metadata": {},
   "outputs": [],
   "source": [
    "import gc\n",
    "gc.collect()\n",
    "\n",
    "import pandas as pd\n",
    "import numpy as np\n",
    "import re\n",
    "import matplotlib.pyplot as plt\n",
    "from scipy.stats import zscore\n",
    "\n",
    "\n",
    "import warnings\n",
    "warnings.filterwarnings('ignore')"
   ]
  },
  {
   "cell_type": "markdown",
   "id": "1183c7da",
   "metadata": {},
   "source": [
    "# 📂 2. Load Raw Data"
   ]
  },
  {
   "cell_type": "markdown",
   "id": "785aa970",
   "metadata": {},
   "source": [
    "## 2.1. Mesures_contenu_volume_audio_à_commander.csv"
   ]
  },
  {
   "cell_type": "code",
   "execution_count": null,
   "id": "ac807246",
   "metadata": {},
   "outputs": [],
   "source": [
    "# Load the CSV file\n",
    "path_volume = \"../data/Mesures_contenu_volume_audio_à_commander.csv\"\n",
    "metrics_df = pd.read_csv(path_volume, sep=';', encoding='utf-8')\n",
    "\n",
    "# Show first few rows of each for context\n",
    "metrics_df"
   ]
  },
  {
   "cell_type": "code",
   "execution_count": null,
   "id": "fd772d20",
   "metadata": {},
   "outputs": [],
   "source": [
    "metrics_df.info()"
   ]
  },
  {
   "cell_type": "code",
   "execution_count": null,
   "id": "c6e92740",
   "metadata": {},
   "outputs": [],
   "source": [
    "metrics_df.describe()"
   ]
  },
  {
   "cell_type": "code",
   "execution_count": null,
   "id": "f3f36263",
   "metadata": {},
   "outputs": [],
   "source": [
    "metrics_df.isnull().sum()"
   ]
  },
  {
   "cell_type": "markdown",
   "id": "ba44c9a3",
   "metadata": {},
   "source": [
    "## 2.2. Correspondance_show_segment_tag.csv"
   ]
  },
  {
   "cell_type": "code",
   "execution_count": null,
   "id": "0ad86cf8",
   "metadata": {},
   "outputs": [],
   "source": [
    "# Load the CSV file\n",
    "path_tags = \"../data/Correspondance_show_segment_tag.csv\"\n",
    "tags_df = pd.read_csv(path_tags, sep=';', encoding='utf-8')\n",
    "\n",
    "# Show rows for context\n",
    "tags_df"
   ]
  },
  {
   "cell_type": "code",
   "execution_count": null,
   "id": "eb76b032",
   "metadata": {},
   "outputs": [],
   "source": [
    "tags_df.info()"
   ]
  },
  {
   "cell_type": "code",
   "execution_count": null,
   "id": "cf8fa19b",
   "metadata": {},
   "outputs": [],
   "source": [
    "tags_df.describe()"
   ]
  },
  {
   "cell_type": "code",
   "execution_count": null,
   "id": "4c683124",
   "metadata": {},
   "outputs": [],
   "source": [
    "tags_df.isnull().sum()"
   ]
  },
  {
   "cell_type": "markdown",
   "id": "1df06a99",
   "metadata": {},
   "source": [
    "# 🧼 3. Clean and Prepare Metrics"
   ]
  },
  {
   "cell_type": "markdown",
   "id": "d7ae95ff",
   "metadata": {},
   "source": [
    "#### 3.1. Cleaning titles"
   ]
  },
  {
   "cell_type": "code",
   "execution_count": null,
   "id": "0efb75da",
   "metadata": {},
   "outputs": [],
   "source": [
    "# remove trailing spaces from column names\n",
    "metrics_df.columns = metrics_df.columns.str.rstrip()\n",
    "# remove extra characters\n",
    "metrics_df.columns = metrics_df.columns.str.strip().str.replace(r'[^\\x00-\\x7F]+', '', regex=True)\n",
    "\n",
    "# Renaming 'Segment Length' to 'Episode Length (s)' as per data description\n",
    "metrics_df = metrics_df.rename(columns={'Segment Length': 'Episode Length (s)'})"
   ]
  },
  {
   "cell_type": "markdown",
   "id": "68b46173",
   "metadata": {},
   "source": [
    "#### 3.2. Checking duplicated rows"
   ]
  },
  {
   "cell_type": "code",
   "execution_count": null,
   "id": "ecd729f2",
   "metadata": {},
   "outputs": [],
   "source": [
    "# Count duplicated rows (full row duplicates)\n",
    "duplicate_rows = metrics_df.duplicated()\n",
    "print(duplicate_rows.sum())"
   ]
  },
  {
   "cell_type": "markdown",
   "id": "3556016e",
   "metadata": {},
   "source": [
    "#### 3.3. Missing values"
   ]
  },
  {
   "cell_type": "code",
   "execution_count": null,
   "id": "3c3c66f9",
   "metadata": {},
   "outputs": [],
   "source": [
    "# Identify rows\n",
    "## impact on 'Show ID','Show','Publication Date','App/Site Name', 'Device Class'\n",
    "missing_rows_1 = metrics_df[metrics_df['Show ID'].isnull()]\n",
    "missing_rows_2 = metrics_df[metrics_df['Publication Date'].isnull()]\n",
    "missing_rows_3 = metrics_df[metrics_df['App/Site Name'].isnull()]\n",
    "missing_rows_4 = metrics_df[metrics_df['Device Class'].isnull()]\n",
    "\n",
    "## Checking if the missing rows are the same\n",
    "missing_rows_dfs = [missing_rows_1, missing_rows_2, missing_rows_3, missing_rows_4]\n",
    "for i, missing_rows in enumerate(missing_rows_dfs):\n",
    "    i +=1\n",
    "    missing_count = len(missing_rows)\n",
    "    total_count = len(metrics_df)\n",
    "    missing_ratio = missing_count / total_count\n",
    "    print(f\"missing_rows_{i}: {missing_count}, Total rows: {total_count}, Missing ratio: {missing_ratio:.2%}\")"
   ]
  },
  {
   "cell_type": "code",
   "execution_count": null,
   "id": "45c4c732",
   "metadata": {},
   "outputs": [],
   "source": [
    "# To see if the exact same rows are missing *only* when all these columns are null\n",
    "## we will check for the intersection of the null masks: \"Are these rows null IN ALL specified columns simultaneously?\"\n",
    "all_specified_cols_null_mask = (\n",
    "    metrics_df['Show ID'].isnull() &\n",
    "    metrics_df['Publication Date'].isnull() &\n",
    "    metrics_df['App/Site Name'].isnull() &\n",
    "    metrics_df['Device Class'].isnull()\n",
    ")\n",
    "rows_where_all_specified_are_missing = metrics_df[all_specified_cols_null_mask]\n",
    "\n",
    "\n",
    "## Then we compare this combined result to our individual missing_rows_X DataFrames\n",
    "for i, missing_rows in enumerate(missing_rows_dfs):\n",
    "    i += 1\n",
    "    print(f\"Is missing_rows_{i} identical to rows where ALL specified columns are missing?\",\n",
    "          missing_rows.equals(rows_where_all_specified_are_missing))"
   ]
  },
  {
   "cell_type": "markdown",
   "id": "0b4c0fb6",
   "metadata": {},
   "source": [
    "Regarding the file \"Mesures_contenu_volume_audio_à_commander.csv\", I have found that 0.04% (119 rows) of the data have missing values on the exact same rows. Moreover, after further investigation, it was also found that these rows containing missing values also have wrong formatting/value in their numerical inputs and wrong titles. Consequently, I will remove the rows containing missing values instead of placig a placeholder"
   ]
  },
  {
   "cell_type": "code",
   "execution_count": null,
   "id": "5727d078",
   "metadata": {},
   "outputs": [],
   "source": [
    "# drop the rows containing empty values in 'Show ID', 'Publication Date', 'App/Site Name', 'Device Class'\n",
    "metrics_df = metrics_df.dropna(subset=['Show ID', 'Publication Date', 'App/Site Name', 'Device Class']).copy()\n",
    "print(f\"Remaining entries after drop: {metrics_df.shape[0]}\")"
   ]
  },
  {
   "cell_type": "markdown",
   "id": "e940d561",
   "metadata": {},
   "source": [
    "#### 3.4. Data Consistency Checks"
   ]
  },
  {
   "cell_type": "code",
   "execution_count": null,
   "id": "e78bbeff",
   "metadata": {},
   "outputs": [],
   "source": [
    "metrics_df.columns"
   ]
  },
  {
   "cell_type": "markdown",
   "id": "931501b3",
   "metadata": {},
   "source": [
    "- \"New Visit Rate %\" column"
   ]
  },
  {
   "cell_type": "code",
   "execution_count": null,
   "id": "ecf48f66",
   "metadata": {},
   "outputs": [],
   "source": [
    "# Noticed that many values were formatted with a coma and a '%' sign\n",
    "\n",
    "## Converting the column to string\n",
    "metrics_df[\"New Visit Rate %\"] = metrics_df[\"New Visit Rate %\"].astype(str)\n",
    "\n",
    "## Remove the '%' character and replace ',' with '.' for decimal conversion\n",
    "metrics_df[\"New Visit Rate %\"] = metrics_df[\"New Visit Rate %\"] \\\n",
    "                                 .str.replace('%', '', regex=False) \\\n",
    "                                 .str.replace(',', '.', regex=False)"
   ]
  },
  {
   "cell_type": "markdown",
   "id": "b89d76f8",
   "metadata": {},
   "source": [
    "- \"Publication Date\" column"
   ]
  },
  {
   "cell_type": "code",
   "execution_count": null,
   "id": "561b5891",
   "metadata": {},
   "outputs": [],
   "source": [
    "# Date standardization based on \"DD.MM.YYYY\"\n",
    "metrics_df['Publication Date'] = pd.to_datetime(metrics_df['Publication Date'], format='%d.%m.%Y', errors='coerce')\n",
    "# metrics_df['Publication Date']"
   ]
  },
  {
   "cell_type": "markdown",
   "id": "4361dd46",
   "metadata": {},
   "source": [
    "- Converting time strings to seconds"
   ]
  },
  {
   "cell_type": "code",
   "execution_count": null,
   "id": "49e6930e",
   "metadata": {},
   "outputs": [],
   "source": [
    "# Function to convert hh:mm:ss to total seconds\n",
    "def duration_to_seconds(duration_str):\n",
    "    try:\n",
    "        h, m, s = map(int, duration_str.split(':'))\n",
    "        return h * 3600 + m * 60 + s\n",
    "    except:\n",
    "        return None  # Handles invalid formats\n",
    "\n",
    "# Apply conversion to 'Avg Play Duration'\n",
    "metrics_df['Avg Play Duration (s)'] = metrics_df['Avg Play Duration'].apply(duration_to_seconds)\n",
    "# metrics_df['Avg Play Duration (s)']\n",
    "\n",
    "# Apply conversion to 'Total Play Duration'\n",
    "metrics_df['Total Play Duration (s)'] = metrics_df['Total Play Duration'].apply(duration_to_seconds)\n",
    "# metrics_df['Total Play Duration (s)']"
   ]
  },
  {
   "cell_type": "markdown",
   "id": "6d390adc",
   "metadata": {},
   "source": [
    "- Converting numerical values"
   ]
  },
  {
   "cell_type": "code",
   "execution_count": null,
   "id": "cfc0d48c",
   "metadata": {},
   "outputs": [],
   "source": [
    "# Numeric columns check\n",
    "numeric_columns = ['Episode Length (s)', 'Media Views', 'Visitors', 'New Visit Rate %', \n",
    "                   'Entries', 'Exits', 'Returning Visits', 'Bounces',\n",
    "                   'Avg Play Duration (s)', 'Total Play Duration (s)']\n",
    "# Ensure columns are converted to float explicitly\n",
    "metrics_df[numeric_columns] = metrics_df[numeric_columns].apply(lambda col: pd.to_numeric(col, errors='coerce')).astype(float)\n",
    "\n",
    "# Check for numeric conversion issues\n",
    "print(\"Numeric conversion check:\")\n",
    "print(metrics_df[numeric_columns].isnull().sum())"
   ]
  },
  {
   "cell_type": "markdown",
   "id": "8b343975",
   "metadata": {},
   "source": [
    "- Converting categorical values"
   ]
  },
  {
   "cell_type": "code",
   "execution_count": null,
   "id": "c7ea63ab",
   "metadata": {},
   "outputs": [],
   "source": [
    "# Convert selected columns to categorical type\n",
    "categorical_columns = ['Segment ID', 'Segment', 'Show ID', 'Show', 'App/Site Name', 'Device Class']\n",
    "metrics_df[categorical_columns] = metrics_df[categorical_columns].astype('category')"
   ]
  },
  {
   "cell_type": "code",
   "execution_count": null,
   "id": "be42f758",
   "metadata": {},
   "outputs": [],
   "source": [
    "metrics_df"
   ]
  },
  {
   "cell_type": "code",
   "execution_count": null,
   "id": "cd37604f",
   "metadata": {},
   "outputs": [],
   "source": [
    "# Dropping the column \"Avg Play Duration\" & \"Total Play Duration\" \n",
    "# as we have their values in seconds in \"Avg Play Duration (s)\" & \"Total Play Duration (s)\"\n",
    "metrics_df.drop(columns=['Avg Play Duration', 'Total Play Duration'], inplace=True)"
   ]
  },
  {
   "cell_type": "code",
   "execution_count": null,
   "id": "a2f1251b",
   "metadata": {},
   "outputs": [],
   "source": [
    "metrics_df.info()"
   ]
  },
  {
   "cell_type": "code",
   "execution_count": null,
   "id": "db5bc66a",
   "metadata": {},
   "outputs": [],
   "source": [
    "# Count duplicated rows (full row duplicates)\n",
    "duplicate_rows = metrics_df.duplicated()\n",
    "print(duplicate_rows.sum())"
   ]
  },
  {
   "cell_type": "markdown",
   "id": "6743c821",
   "metadata": {},
   "source": [
    "#### 3.5 Checking outliers"
   ]
  },
  {
   "cell_type": "code",
   "execution_count": null,
   "id": "19422aaa",
   "metadata": {},
   "outputs": [],
   "source": [
    "# checking the statistics of the numerical values\n",
    "metrics_df[numeric_columns].describe().T"
   ]
  },
  {
   "cell_type": "code",
   "execution_count": null,
   "id": "78432dcb",
   "metadata": {},
   "outputs": [],
   "source": [
    "# checking the distribution\n",
    "metrics_df[numeric_columns].plot(kind='box', subplots=True, layout=(3,4), figsize=(15,10), sharex=False)\n",
    "plt.tight_layout()\n",
    "plt.show()"
   ]
  },
  {
   "cell_type": "code",
   "execution_count": null,
   "id": "9c093eb8",
   "metadata": {},
   "outputs": [],
   "source": [
    "# statistical check: Z-Score Method\n",
    "\n",
    "## Z-scores for numeric columns\n",
    "z_scores = metrics_df[numeric_columns].apply(zscore)\n",
    "outlier_flags = (z_scores.abs() > 3)  # mark outliers (threshold=3 std deviations)\n",
    "\n",
    "## Check which columns have many outliers\n",
    "outlier_counts = outlier_flags.sum()\n",
    "print(outlier_counts)\n"
   ]
  },
  {
   "cell_type": "code",
   "execution_count": null,
   "id": "57fd2150",
   "metadata": {},
   "outputs": [],
   "source": [
    "# Cap at 99th Percentile\n",
    "## to reduce outlier impact\n",
    "for col in numeric_columns:\n",
    "    cap = metrics_df[col].quantile(0.99)\n",
    "    metrics_df[col] = metrics_df[col].clip(upper=cap)"
   ]
  },
  {
   "cell_type": "markdown",
   "id": "6dd5468e",
   "metadata": {},
   "source": [
    "# 🧼 4. Clean and Prepare Tags"
   ]
  },
  {
   "cell_type": "markdown",
   "id": "b3e0d4aa",
   "metadata": {},
   "source": [
    "#### 4.1 Cleaning titles"
   ]
  },
  {
   "cell_type": "code",
   "execution_count": null,
   "id": "2585dc1c",
   "metadata": {},
   "outputs": [],
   "source": [
    "# Clean column names (e.g., remove invisible characters)\n",
    "tags_df.columns = tags_df.columns.str.strip().str.replace(r'[^\\x00-\\x7F]+', '', regex=True)"
   ]
  },
  {
   "cell_type": "markdown",
   "id": "6e1a1a23",
   "metadata": {},
   "source": [
    "#### 4.2. Cleaning 'Assigned Tags'"
   ]
  },
  {
   "cell_type": "code",
   "execution_count": null,
   "id": "647d603b",
   "metadata": {},
   "outputs": [],
   "source": [
    "# Replace '-' with None\n",
    "tags_df['Assigned Tags'] = tags_df['Assigned Tags'].replace('-', None)\n",
    "\n",
    "# Drop rows where 'Assigned Tags' is None or effectively empty after stripping whitespace\n",
    "tags_df = tags_df[tags_df['Assigned Tags'].notna() & (tags_df['Assigned Tags'].astype(str).str.strip() != '')]"
   ]
  },
  {
   "cell_type": "code",
   "execution_count": null,
   "id": "e595da97",
   "metadata": {},
   "outputs": [],
   "source": [
    "# Define the five exact valid tags\n",
    "valid_tags = {\n",
    "    'media_radio:societe',\n",
    "    'media_radio:humour',\n",
    "    'media_radio:info',\n",
    "    'media_radio:musique',\n",
    "    'media_radio:sport'\n",
    "}"
   ]
  },
  {
   "cell_type": "code",
   "execution_count": null,
   "id": "68e17307",
   "metadata": {},
   "outputs": [],
   "source": [
    "# Function to check if each valid tag is present in the full string\n",
    "def match_valid_tags_in_string(tag_string, valid_tags):\n",
    "    tag_string = str(tag_string).lower()\n",
    "    return [tag for tag in valid_tags if tag in tag_string]"
   ]
  },
  {
   "cell_type": "code",
   "execution_count": null,
   "id": "31eaf85e",
   "metadata": {},
   "outputs": [],
   "source": [
    "# Apply the matching function\n",
    "tags_df['cleaned_themes'] = tags_df['Assigned Tags'].apply(lambda x: match_valid_tags_in_string(x, valid_tags))\n",
    "tags_df['Primary Theme'] = tags_df['cleaned_themes'].apply(lambda tags: tags[0] if tags else None)"
   ]
  },
  {
   "cell_type": "markdown",
   "id": "c247073a",
   "metadata": {},
   "source": [
    "We noticed that there are 10 shows that contain multi themes:\n",
    "\n",
    "    3ème mi-temps\n",
    "    Dis, pourquoi?\n",
    "    Émission spéciale\n",
    "    Footaises\n",
    "    La Matinale\n",
    "    Le 12h30\n",
    "    Le grand soir\n",
    "    Les beaux parleurs\n",
    "    Sport-Première\n",
    "    The Jam\n",
    "\n",
    "In this particular case, we are sticking to the assumption of primary_theme = first theme.\n",
    "Otherwise we could explode to multi-theme rows, but shows could be repeated among categories."
   ]
  },
  {
   "cell_type": "markdown",
   "id": "bc219e49",
   "metadata": {},
   "source": [
    "#### 4.3 Dropping null values in 'Primary Theme'"
   ]
  },
  {
   "cell_type": "code",
   "execution_count": null,
   "id": "2ae86b0c",
   "metadata": {},
   "outputs": [],
   "source": [
    "# Drop all the empty 'Primary Theme' as we could not retrieve the needed ones\n",
    "tags_df = tags_df.dropna(subset=['Primary Theme'])"
   ]
  },
  {
   "cell_type": "markdown",
   "id": "098bd70e",
   "metadata": {},
   "source": [
    "#### 4.4 Dropping unnecessary columns"
   ]
  },
  {
   "cell_type": "code",
   "execution_count": null,
   "id": "ab159a0a",
   "metadata": {},
   "outputs": [],
   "source": [
    "# Drop column 'Assigned Tags' and 'cleaned themes' as it was to check the extractions\n",
    "tags_df = tags_df.drop([\"Assigned Tags\", \"cleaned_themes\"], axis=1)"
   ]
  },
  {
   "cell_type": "markdown",
   "id": "264a2dbf",
   "metadata": {},
   "source": [
    "#### 4.5. Checking duplicated rows"
   ]
  },
  {
   "cell_type": "code",
   "execution_count": null,
   "id": "cd62cd58",
   "metadata": {},
   "outputs": [],
   "source": [
    "# Remove duplicated rows and keeping the first time the tag was assigned\n",
    "tags_df = tags_df.drop_duplicates(subset=['Segment ID', 'Show', 'Show ID'], keep='first')"
   ]
  },
  {
   "cell_type": "code",
   "execution_count": null,
   "id": "d30b8113",
   "metadata": {},
   "outputs": [],
   "source": [
    "tags_df"
   ]
  },
  {
   "cell_type": "code",
   "execution_count": null,
   "id": "8bf6f1e2",
   "metadata": {},
   "outputs": [],
   "source": [
    "# tags_df.to_csv(\"tags.csv\", encoding='utf-8-sig')"
   ]
  },
  {
   "cell_type": "markdown",
   "id": "fcec8973",
   "metadata": {},
   "source": [
    "# 🔗 5. Merge Datasets"
   ]
  },
  {
   "cell_type": "markdown",
   "id": "255972a9",
   "metadata": {},
   "source": [
    "#### 5.1 Merge datasets"
   ]
  },
  {
   "cell_type": "code",
   "execution_count": null,
   "id": "9bf0c71d",
   "metadata": {},
   "outputs": [],
   "source": [
    "# Merge datasets on \"Segment ID\"\n",
    "# many-to-one method as we have multiple Segment ID due to \"App/Site Name\" & \"Device Class\"\n",
    "merged_df = pd.merge(metrics_df, tags_df[['Segment ID', 'Primary Theme']],\n",
    "                     on='Segment ID', how='left')\n",
    "\n",
    "# Check merge results\n",
    "merged_df"
   ]
  },
  {
   "cell_type": "markdown",
   "id": "ee1b879d",
   "metadata": {},
   "source": [
    "#### 5.2. Checking duplicates after merging"
   ]
  },
  {
   "cell_type": "code",
   "execution_count": null,
   "id": "ee6272b4",
   "metadata": {},
   "outputs": [],
   "source": [
    "# Count duplicated rows (full row duplicates)\n",
    "merged_df.sort_values('Segment ID')\n",
    "print(merged_df.duplicated(keep=False).sum())\n",
    "\n",
    "# merged_df.to_csv(\"dups.csv\", encoding='utf-8-sig')"
   ]
  },
  {
   "cell_type": "markdown",
   "id": "c6bfb3a1",
   "metadata": {},
   "source": [
    "#### 5.3. Filtering valid tags"
   ]
  },
  {
   "cell_type": "code",
   "execution_count": null,
   "id": "0fd7653f",
   "metadata": {},
   "outputs": [],
   "source": [
    "# Dropping the rows that do not have the 5 tags that we needed to have\n",
    "## valid tags from before. Applying this method if we were to add more valid_tags.\n",
    "df = merged_df[merged_df['Primary Theme'].isin(valid_tags)]\n",
    "\n",
    "# Remove 'media_radio:' prefix from 'Primary Theme'\n",
    "df['Primary Theme'] = df['Primary Theme'].str.replace('media_radio:', '', regex=False)\n",
    "\n",
    "## changing the values to categories for consistency\n",
    "df['Primary Theme'] = df['Primary Theme'].astype('category')\n",
    "\n",
    "## display data\n",
    "df"
   ]
  },
  {
   "cell_type": "markdown",
   "id": "e0e3c925",
   "metadata": {},
   "source": [
    "#### 5.4. Define the KPI within the dataset"
   ]
  },
  {
   "cell_type": "markdown",
   "id": "f68094ec",
   "metadata": {},
   "source": [
    "For each \"Segment ID\", we’ll calculate:\n",
    "\n",
    "| KPI                           | Formula                          |\n",
    "| ----------------------------- | -------------------------------- |\n",
    "| 🔁 Engagement per Visitor     | `Total Play Duration / Visitors` |\n",
    "| 🧲 Acquisition Rate           | `Entries / Visitors`             |\n",
    "| 📌 Retention Rate             | `Returning Visits / Visitors`    |\n"
   ]
  },
  {
   "cell_type": "code",
   "execution_count": null,
   "id": "3e893ce4",
   "metadata": {},
   "outputs": [],
   "source": [
    "df[\"Engagement per Visitor (s)\"] = df[\"Total Play Duration (s)\"] / df[\"Visitors\"].replace(0, pd.NA)\n",
    "df[\"Acquisition Rate %\"] = df[\"Entries\"] / df[\"Visitors\"].replace(0, pd.NA) * 100\n",
    "df[\"Retention Rate %\"] = df[\"Returning Visits\"] / df[\"Visitors\"].replace(0, pd.NA) * 100"
   ]
  },
  {
   "cell_type": "markdown",
   "id": "fb99880c",
   "metadata": {},
   "source": [
    "#### 5.5. Exporting final dataset"
   ]
  },
  {
   "cell_type": "code",
   "execution_count": null,
   "id": "d48bb1d6",
   "metadata": {},
   "outputs": [],
   "source": [
    "# Generating a file to keep for further investigation\n",
    "df.to_csv(\"../data/rts_data_metrics_tags.csv\", encoding='utf-8-sig', index=False)"
   ]
  },
  {
   "cell_type": "code",
   "execution_count": null,
   "id": "8e0964b9",
   "metadata": {},
   "outputs": [],
   "source": [
    "df.shape"
   ]
  },
  {
   "cell_type": "code",
   "execution_count": null,
   "id": "1ca17bb3",
   "metadata": {},
   "outputs": [],
   "source": [
    "df.describe()"
   ]
  },
  {
   "cell_type": "code",
   "execution_count": null,
   "id": "b52463d5",
   "metadata": {},
   "outputs": [],
   "source": [
    "df.info()"
   ]
  },
  {
   "cell_type": "code",
   "execution_count": null,
   "id": "98cce9c2",
   "metadata": {},
   "outputs": [],
   "source": [
    "df"
   ]
  },
  {
   "cell_type": "markdown",
   "id": "9ad33df2",
   "metadata": {},
   "source": [
    "# 📊 6. Compute KPIs per Theme"
   ]
  },
  {
   "cell_type": "markdown",
   "id": "46a464fe",
   "metadata": {},
   "source": [
    "#### 6.1. Define KPIs"
   ]
  },
  {
   "cell_type": "code",
   "execution_count": null,
   "id": "71d5e814",
   "metadata": {},
   "outputs": [],
   "source": [
    "# Convert numeric columns to ensure they aggregate properly\n",
    "kpi_columns = [\n",
    "    'Media Views', 'Visitors', 'New Visit Rate %', 'Entries', 'Exits',\n",
    "    'Returning Visits', 'Bounces', 'Avg Play Duration (s)', 'Total Play Duration (s)'\n",
    "]\n",
    "df[kpi_columns] = df[kpi_columns].apply(pd.to_numeric, errors='coerce')"
   ]
  },
  {
   "cell_type": "markdown",
   "id": "9e027939",
   "metadata": {},
   "source": [
    "For each \"Primary Theme\", we’ll calculate:\n",
    "\n",
    "| KPI                           | Formula                          |\n",
    "| ----------------------------- | -------------------------------- |\n",
    "| 🎧 Total Media Views          | `sum(Media Views)`               |\n",
    "| 👥 Total Visitors             | `sum(Visitors)`                  |\n",
    "| 📈 Average New Visit Rate (%) | `mean(New Visit Rate %)`         |\n",
    "| 🚪 Total Entries              | `sum(Entries)`                   |\n",
    "| 🚶‍♂️ Total Exits             | `sum(Exits)`                     |\n",
    "| 🔁 Total Returning Visits     | `sum(Returning Visits)`          |\n",
    "| ⛔️ Total Bounces              | `sum(Bounces)`                   |\n",
    "| ⏱️ Average Play Duration (s)  | `mean(Avg Play Duration (s))`    |\n",
    "| ⏱️ Total Play Duration (s)    | `sum(Total Play Duration (s))`   |\n",
    "| 🔁 Engagement per Visitor     | `Total Play Duration / Visitors` |\n",
    "| 🧲 Acquisition Rate           | `Entries / Visitors`             |\n",
    "| 📌 Retention Rate             | `Returning Visits / Visitors`    |\n"
   ]
  },
  {
   "cell_type": "code",
   "execution_count": null,
   "id": "2c08e01f",
   "metadata": {},
   "outputs": [],
   "source": [
    "# Group by Primary Theme and compute aggregations\n",
    "theme_kpis = df.groupby('Primary Theme').agg({\n",
    "    'Media Views': 'sum',\n",
    "    'Visitors': 'sum',\n",
    "    'New Visit Rate %': 'mean',\n",
    "    'Entries': 'sum',\n",
    "    'Exits': 'sum',\n",
    "    'Returning Visits': 'sum',\n",
    "    'Bounces': 'sum',\n",
    "    'Avg Play Duration (s)': 'mean',\n",
    "    'Total Play Duration (s)': 'sum'\n",
    "}).reset_index()"
   ]
  },
  {
   "cell_type": "markdown",
   "id": "b1b96baa",
   "metadata": {},
   "source": [
    "#### 6.2. Define KPI calculations"
   ]
  },
  {
   "cell_type": "markdown",
   "id": "c4be226b",
   "metadata": {},
   "source": [
    "- Engagement per Visitor = Total Play Duration / Visitors\n",
    "- Acquisition Rate = Entries / Visitors\n",
    "- Retention Rate = Returning Visits / Visitors"
   ]
  },
  {
   "cell_type": "code",
   "execution_count": null,
   "id": "86fd7c37",
   "metadata": {},
   "outputs": [],
   "source": [
    "# Add calculated KPIs\n",
    "theme_kpis['Engagement per Visitor'] = theme_kpis['Total Play Duration (s)'] / theme_kpis['Visitors'].replace(0, pd.NA)\n",
    "theme_kpis['Acquisition Rate'] = theme_kpis['Entries'] / theme_kpis['Visitors'].replace(0, pd.NA)\n",
    "theme_kpis['Retention Rate'] = theme_kpis['Returning Visits'] / theme_kpis['Visitors'].replace(0, pd.NA)"
   ]
  },
  {
   "cell_type": "markdown",
   "id": "f3244da7",
   "metadata": {},
   "source": [
    "#### 6.3. Normalizing the KPIs"
   ]
  },
  {
   "cell_type": "code",
   "execution_count": null,
   "id": "e63341e8",
   "metadata": {},
   "outputs": [],
   "source": [
    "# Min-max normalization (optional)\n",
    "for col in ['Engagement per Visitor', 'Acquisition Rate', 'Retention Rate']:\n",
    "    theme_kpis[f'norm_{col}'] = (theme_kpis[col] - theme_kpis[col].min()) / (theme_kpis[col].max() - theme_kpis[col].min())"
   ]
  },
  {
   "cell_type": "markdown",
   "id": "589bbba2",
   "metadata": {},
   "source": [
    "#### 6.4. Recommendation system"
   ]
  },
  {
   "cell_type": "code",
   "execution_count": null,
   "id": "85350745",
   "metadata": {},
   "outputs": [],
   "source": [
    "thresholds = {\n",
    "    'high_engagement': theme_kpis['Engagement per Visitor'].quantile(0.75),\n",
    "    'low_engagement': theme_kpis['Engagement per Visitor'].quantile(0.25),\n",
    "    'high_retention': theme_kpis['Retention Rate'].quantile(0.75),\n",
    "    'high_acquisition': theme_kpis['Acquisition Rate'].quantile(0.75),\n",
    "}"
   ]
  },
  {
   "cell_type": "code",
   "execution_count": null,
   "id": "098d5216",
   "metadata": {},
   "outputs": [],
   "source": [
    "def recommend(row):\n",
    "    # High retention + high engagement\n",
    "    if (row['Engagement per Visitor'] >= thresholds['high_engagement'] and\n",
    "        row['Retention Rate'] >= thresholds['high_retention']):\n",
    "        return \"Increase production\"\n",
    "    # High acquisition, moderate engagement\n",
    "    elif (row['Acquisition Rate'] >= thresholds['high_acquisition'] and\n",
    "          thresholds['low_engagement'] < row['Engagement per Visitor'] < thresholds['high_engagement']):\n",
    "        return \"Maintain\"\n",
    "    # Low engagement\n",
    "    elif row['Engagement per Visitor'] <= thresholds['low_engagement']:\n",
    "        return \"Review and optimize\"\n",
    "    # All other cases\n",
    "    else:\n",
    "        return \"Cross-promote\"\n"
   ]
  },
  {
   "cell_type": "markdown",
   "id": "0d7fa2d6",
   "metadata": {},
   "source": [
    "#### 6.5. Export Segment-Level KPIs"
   ]
  },
  {
   "cell_type": "code",
   "execution_count": null,
   "id": "ae21b6e3",
   "metadata": {},
   "outputs": [],
   "source": [
    "theme_kpis['Recommendation'] = theme_kpis.apply(recommend, axis=1)"
   ]
  },
  {
   "cell_type": "code",
   "execution_count": null,
   "id": "b51c4631",
   "metadata": {},
   "outputs": [],
   "source": [
    "theme_kpis"
   ]
  },
  {
   "cell_type": "code",
   "execution_count": null,
   "id": "09bb324b",
   "metadata": {},
   "outputs": [],
   "source": [
    "# Generating a file to keep for further investigation\n",
    "theme_kpis.to_csv(\"../data/rts_theme_kpis.csv\", encoding='utf-8-sig', index=False)"
   ]
  },
  {
   "cell_type": "markdown",
   "id": "1c579f5d",
   "metadata": {},
   "source": [
    "# 📊 7. Compute KPIs per Segment ID"
   ]
  },
  {
   "cell_type": "code",
   "execution_count": null,
   "id": "3f40e62f",
   "metadata": {},
   "outputs": [],
   "source": [
    "# Needed this extra step due to computing capabilities\n",
    "import gc\n",
    "gc.collect()\n",
    "\n",
    "import pandas as pd\n",
    "\n",
    "\n",
    "import warnings\n",
    "warnings.filterwarnings('ignore')\n",
    "\n",
    "# Generating a file to keep for further investigation\n",
    "df = pd.read_csv(\"../data/rts_data_metrics_tags.csv\", encoding='utf-8-sig')"
   ]
  },
  {
   "cell_type": "markdown",
   "id": "306ec0b0",
   "metadata": {},
   "source": [
    "#### 7.1. Group by 'Segment ID'"
   ]
  },
  {
   "cell_type": "code",
   "execution_count": null,
   "id": "f47d02e0",
   "metadata": {},
   "outputs": [],
   "source": [
    "segment_kpis = df.groupby(['Segment ID', 'Primary Theme']).agg({\n",
    "    'Media Views': 'sum',\n",
    "    'Visitors': 'sum',\n",
    "    'New Visit Rate %': 'mean',\n",
    "    'Entries': 'sum',\n",
    "    'Exits': 'sum',\n",
    "    'Returning Visits': 'sum',\n",
    "    'Bounces': 'sum',\n",
    "    'Avg Play Duration (s)': 'mean',\n",
    "    'Total Play Duration (s)': 'sum'\n",
    "}).reset_index()\n"
   ]
  },
  {
   "cell_type": "markdown",
   "id": "7eb50735",
   "metadata": {},
   "source": [
    "#### 7.2. Add Calculated KPIs"
   ]
  },
  {
   "cell_type": "code",
   "execution_count": null,
   "id": "bc037c73",
   "metadata": {},
   "outputs": [],
   "source": [
    "segment_kpis[\"Engagement per Visitor\"] = segment_kpis[\"Total Play Duration (s)\"] / segment_kpis[\"Visitors\"].replace(0, pd.NA)\n",
    "segment_kpis[\"Acquisition Rate\"] = segment_kpis[\"Entries\"] / segment_kpis[\"Visitors\"].replace(0, pd.NA)\n",
    "segment_kpis[\"Retention Rate\"] = segment_kpis[\"Returning Visits\"] / segment_kpis[\"Visitors\"].replace(0, pd.NA)\n"
   ]
  },
  {
   "cell_type": "markdown",
   "id": "b317ca36",
   "metadata": {},
   "source": [
    "#### 7.3. Normalize for Segment-Level Thresholds"
   ]
  },
  {
   "cell_type": "code",
   "execution_count": null,
   "id": "d2578f23",
   "metadata": {},
   "outputs": [],
   "source": [
    "for col in ['Engagement per Visitor', 'Acquisition Rate', 'Retention Rate']:\n",
    "    segment_kpis[f'norm_{col}'] = (segment_kpis[col] - segment_kpis[col].min()) / (segment_kpis[col].max() - segment_kpis[col].min())"
   ]
  },
  {
   "cell_type": "markdown",
   "id": "0c6e3af9",
   "metadata": {},
   "source": [
    "#### 7.4. Recommendation"
   ]
  },
  {
   "cell_type": "code",
   "execution_count": null,
   "id": "35d4d550",
   "metadata": {},
   "outputs": [],
   "source": [
    "thresholds_segment = {\n",
    "    'high_engagement': segment_kpis['Engagement per Visitor'].quantile(0.75),\n",
    "    'low_engagement': segment_kpis['Engagement per Visitor'].quantile(0.25),\n",
    "    'high_retention': segment_kpis['Retention Rate'].quantile(0.75),\n",
    "    'high_acquisition': segment_kpis['Acquisition Rate'].quantile(0.75),\n",
    "}"
   ]
  },
  {
   "cell_type": "code",
   "execution_count": null,
   "id": "0b7237bd",
   "metadata": {},
   "outputs": [],
   "source": [
    "def recommend_segment(row):\n",
    "    if (row['Engagement per Visitor'] >= thresholds_segment['high_engagement'] and\n",
    "        row['Retention Rate'] >= thresholds_segment['high_retention']):\n",
    "        return \"Increase production\"\n",
    "    elif (row['Acquisition Rate'] >= thresholds_segment['high_acquisition'] and\n",
    "          thresholds_segment['low_engagement'] < row['Engagement per Visitor'] < thresholds_segment['high_engagement']):\n",
    "        return \"Maintain\"\n",
    "    elif row['Engagement per Visitor'] <= thresholds_segment['low_engagement']:\n",
    "        return \"Review and optimize\"\n",
    "    else:\n",
    "        return \"Cross-promote\"\n",
    "\n",
    "segment_kpis['Recommendation'] = segment_kpis.apply(recommend_segment, axis=1)\n"
   ]
  },
  {
   "cell_type": "markdown",
   "id": "2aa0ac89",
   "metadata": {},
   "source": [
    "#### 7.5. Export Segment-Level KPIs"
   ]
  },
  {
   "cell_type": "code",
   "execution_count": null,
   "id": "68582015",
   "metadata": {},
   "outputs": [],
   "source": [
    "segment_kpis.to_csv(\"../data/rts_segment_kpis.csv\", encoding='utf-8-sig', index=False)"
   ]
  },
  {
   "cell_type": "code",
   "execution_count": null,
   "id": "d0e888ce",
   "metadata": {},
   "outputs": [],
   "source": []
  }
 ],
 "metadata": {
  "kernelspec": {
   "display_name": "Python 3",
   "language": "python",
   "name": "python3"
  },
  "language_info": {
   "codemirror_mode": {
    "name": "ipython",
    "version": 3
   },
   "file_extension": ".py",
   "mimetype": "text/x-python",
   "name": "python",
   "nbconvert_exporter": "python",
   "pygments_lexer": "ipython3",
   "version": "3.13.5"
  }
 },
 "nbformat": 4,
 "nbformat_minor": 5
}
